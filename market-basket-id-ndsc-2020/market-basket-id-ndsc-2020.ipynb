{
  "nbformat": 4,
  "nbformat_minor": 0,
  "metadata": {
    "colab": {
      "name": "NDSC.ipynb",
      "provenance": [],
      "collapsed_sections": []
    },
    "kernelspec": {
      "name": "python3",
      "display_name": "Python 3"
    }
  },
  "cells": [
    {
      "cell_type": "code",
      "metadata": {
        "id": "ui3uSq9e07Ge",
        "colab": {
          "base_uri": "https://localhost:8080/"
        },
        "outputId": "a59fd549-78f5-43e8-a011-8c3281840c24"
      },
      "source": [
        "import pandas as pd\n",
        "from pandas import DataFrame\n",
        "from pandas import Series\n",
        "import numpy as np\n",
        "\n",
        "\n",
        "from pandas_profiling import ProfileReport\n",
        "\n",
        "import time\n",
        "!pip install apyori\n",
        "from apyori import apriori as apriori1\n",
        "!pip install mlxtend\n",
        "from mlxtend.preprocessing import TransactionEncoder\n",
        "from mlxtend.frequent_patterns import apriori as apriori2\n",
        "from mlxtend.frequent_patterns import association_rules\n",
        "# from mlxtend.frequent_patterns import fpgrowth\n",
        "\n",
        "from wordcloud import WordCloud\n",
        "import matplotlib.pyplot as plt\n",
        "from PIL import Image"
      ],
      "execution_count": null,
      "outputs": [
        {
          "output_type": "stream",
          "text": [
            "Requirement already satisfied: apyori in /usr/local/lib/python3.6/dist-packages (1.1.2)\n",
            "Requirement already satisfied: mlxtend in /usr/local/lib/python3.6/dist-packages (0.14.0)\n",
            "Requirement already satisfied: scipy>=0.17 in /usr/local/lib/python3.6/dist-packages (from mlxtend) (1.4.1)\n",
            "Requirement already satisfied: matplotlib>=1.5.1 in /usr/local/lib/python3.6/dist-packages (from mlxtend) (3.2.2)\n",
            "Requirement already satisfied: scikit-learn>=0.18 in /usr/local/lib/python3.6/dist-packages (from mlxtend) (0.22.2.post1)\n",
            "Requirement already satisfied: numpy>=1.10.4 in /usr/local/lib/python3.6/dist-packages (from mlxtend) (1.18.5)\n",
            "Requirement already satisfied: pandas>=0.17.1 in /usr/local/lib/python3.6/dist-packages (from mlxtend) (1.1.4)\n",
            "Requirement already satisfied: setuptools in /usr/local/lib/python3.6/dist-packages (from mlxtend) (50.3.2)\n",
            "Requirement already satisfied: kiwisolver>=1.0.1 in /usr/local/lib/python3.6/dist-packages (from matplotlib>=1.5.1->mlxtend) (1.3.1)\n",
            "Requirement already satisfied: cycler>=0.10 in /usr/local/lib/python3.6/dist-packages (from matplotlib>=1.5.1->mlxtend) (0.10.0)\n",
            "Requirement already satisfied: python-dateutil>=2.1 in /usr/local/lib/python3.6/dist-packages (from matplotlib>=1.5.1->mlxtend) (2.8.1)\n",
            "Requirement already satisfied: pyparsing!=2.0.4,!=2.1.2,!=2.1.6,>=2.0.1 in /usr/local/lib/python3.6/dist-packages (from matplotlib>=1.5.1->mlxtend) (2.4.7)\n",
            "Requirement already satisfied: joblib>=0.11 in /usr/local/lib/python3.6/dist-packages (from scikit-learn>=0.18->mlxtend) (0.17.0)\n",
            "Requirement already satisfied: pytz>=2017.2 in /usr/local/lib/python3.6/dist-packages (from pandas>=0.17.1->mlxtend) (2018.9)\n",
            "Requirement already satisfied: six in /usr/local/lib/python3.6/dist-packages (from cycler>=0.10->matplotlib>=1.5.1->mlxtend) (1.15.0)\n"
          ],
          "name": "stdout"
        }
      ]
    },
    {
      "cell_type": "code",
      "metadata": {
        "id": "EBnUvWye27-Y",
        "colab": {
          "base_uri": "https://localhost:8080/",
          "height": 143
        },
        "outputId": "c3b10287-8b98-4fb3-a896-664701214ebb"
      },
      "source": [
        "url1 = 'https://raw.githubusercontent.com/ikanurlaily/market-basket2/main/association_order.csv'\n",
        "association_order = pd.read_csv(url1, error_bad_lines=False)\n",
        "association_order.head(3)"
      ],
      "execution_count": null,
      "outputs": [
        {
          "output_type": "execute_result",
          "data": {
            "text/html": [
              "<div>\n",
              "<style scoped>\n",
              "    .dataframe tbody tr th:only-of-type {\n",
              "        vertical-align: middle;\n",
              "    }\n",
              "\n",
              "    .dataframe tbody tr th {\n",
              "        vertical-align: top;\n",
              "    }\n",
              "\n",
              "    .dataframe thead th {\n",
              "        text-align: right;\n",
              "    }\n",
              "</style>\n",
              "<table border=\"1\" class=\"dataframe\">\n",
              "  <thead>\n",
              "    <tr style=\"text-align: right;\">\n",
              "      <th></th>\n",
              "      <th>orderid</th>\n",
              "      <th>itemid</th>\n",
              "    </tr>\n",
              "  </thead>\n",
              "  <tbody>\n",
              "    <tr>\n",
              "      <th>0</th>\n",
              "      <td>31379820545759</td>\n",
              "      <td>719740607</td>\n",
              "    </tr>\n",
              "    <tr>\n",
              "      <th>1</th>\n",
              "      <td>31378575577269</td>\n",
              "      <td>1825360194</td>\n",
              "    </tr>\n",
              "    <tr>\n",
              "      <th>2</th>\n",
              "      <td>31369591568249</td>\n",
              "      <td>1108903291</td>\n",
              "    </tr>\n",
              "  </tbody>\n",
              "</table>\n",
              "</div>"
            ],
            "text/plain": [
              "          orderid      itemid\n",
              "0  31379820545759   719740607\n",
              "1  31378575577269  1825360194\n",
              "2  31369591568249  1108903291"
            ]
          },
          "metadata": {
            "tags": []
          },
          "execution_count": 2
        }
      ]
    },
    {
      "cell_type": "code",
      "metadata": {
        "id": "_z1JvDmtFpMk",
        "colab": {
          "base_uri": "https://localhost:8080/",
          "height": 143
        },
        "outputId": "db60a8f6-20fd-4033-da7d-65f2b640c047"
      },
      "source": [
        "url2 = 'https://raw.githubusercontent.com/ikanurlaily/market-basket2/main/rules.csv'\n",
        "rules = pd.read_csv(url2, error_bad_lines=False)\n",
        "rules.head(3)"
      ],
      "execution_count": null,
      "outputs": [
        {
          "output_type": "execute_result",
          "data": {
            "text/html": [
              "<div>\n",
              "<style scoped>\n",
              "    .dataframe tbody tr th:only-of-type {\n",
              "        vertical-align: middle;\n",
              "    }\n",
              "\n",
              "    .dataframe tbody tr th {\n",
              "        vertical-align: top;\n",
              "    }\n",
              "\n",
              "    .dataframe thead th {\n",
              "        text-align: right;\n",
              "    }\n",
              "</style>\n",
              "<table border=\"1\" class=\"dataframe\">\n",
              "  <thead>\n",
              "    <tr style=\"text-align: right;\">\n",
              "      <th></th>\n",
              "      <th>rule</th>\n",
              "    </tr>\n",
              "  </thead>\n",
              "  <tbody>\n",
              "    <tr>\n",
              "      <th>0</th>\n",
              "      <td>100242812&gt;80361758</td>\n",
              "    </tr>\n",
              "    <tr>\n",
              "      <th>1</th>\n",
              "      <td>100242812&gt;89031406</td>\n",
              "    </tr>\n",
              "    <tr>\n",
              "      <th>2</th>\n",
              "      <td>1003153762&gt;1016449477</td>\n",
              "    </tr>\n",
              "  </tbody>\n",
              "</table>\n",
              "</div>"
            ],
            "text/plain": [
              "                    rule\n",
              "0     100242812>80361758\n",
              "1     100242812>89031406\n",
              "2  1003153762>1016449477"
            ]
          },
          "metadata": {
            "tags": []
          },
          "execution_count": 3
        }
      ]
    },
    {
      "cell_type": "code",
      "metadata": {
        "colab": {
          "base_uri": "https://localhost:8080/",
          "height": 143
        },
        "id": "06NyZn8Fgx2w",
        "outputId": "f0e0d9d6-63ff-4190-d507-0580a57b1b60"
      },
      "source": [
        "grouped_df = association_order.groupby(\"orderid\")\n",
        "order_gr = grouped_df[\"itemid\"].apply(list)\n",
        "order_gr = order_gr.reset_index()\n",
        "order_gr = DataFrame(order_gr)\n",
        "order_gr.head(3)\n",
        "#order_gr.to_csv('ordergroup.csv')"
      ],
      "execution_count": null,
      "outputs": [
        {
          "output_type": "execute_result",
          "data": {
            "text/html": [
              "<div>\n",
              "<style scoped>\n",
              "    .dataframe tbody tr th:only-of-type {\n",
              "        vertical-align: middle;\n",
              "    }\n",
              "\n",
              "    .dataframe tbody tr th {\n",
              "        vertical-align: top;\n",
              "    }\n",
              "\n",
              "    .dataframe thead th {\n",
              "        text-align: right;\n",
              "    }\n",
              "</style>\n",
              "<table border=\"1\" class=\"dataframe\">\n",
              "  <thead>\n",
              "    <tr style=\"text-align: right;\">\n",
              "      <th></th>\n",
              "      <th>orderid</th>\n",
              "      <th>itemid</th>\n",
              "    </tr>\n",
              "  </thead>\n",
              "  <tbody>\n",
              "    <tr>\n",
              "      <th>0</th>\n",
              "      <td>31338000509845</td>\n",
              "      <td>[2662778119, 2255381856, 1825056968, 575945551...</td>\n",
              "    </tr>\n",
              "    <tr>\n",
              "      <th>1</th>\n",
              "      <td>31338001158725</td>\n",
              "      <td>[6112866826, 5013004529, 5712867361]</td>\n",
              "    </tr>\n",
              "    <tr>\n",
              "      <th>2</th>\n",
              "      <td>31338002167561</td>\n",
              "      <td>[5712106216, 3310344299, 6303964568, 331073883...</td>\n",
              "    </tr>\n",
              "  </tbody>\n",
              "</table>\n",
              "</div>"
            ],
            "text/plain": [
              "          orderid                                             itemid\n",
              "0  31338000509845  [2662778119, 2255381856, 1825056968, 575945551...\n",
              "1  31338001158725               [6112866826, 5013004529, 5712867361]\n",
              "2  31338002167561  [5712106216, 3310344299, 6303964568, 331073883..."
            ]
          },
          "metadata": {
            "tags": []
          },
          "execution_count": 4
        }
      ]
    },
    {
      "cell_type": "code",
      "metadata": {
        "id": "v55hz_NePlJR"
      },
      "source": [
        "order_gr['itemid'] = order_gr['itemid'].astype(str).str.replace(r\"[\", '')\n",
        "order_gr['itemid'] = order_gr['itemid'].astype(str).str.replace(r\"]\", '')\n",
        "order_gr['itemid'] = order_gr['itemid'].astype(str).str.replace(r\" \", '')"
      ],
      "execution_count": null,
      "outputs": []
    },
    {
      "cell_type": "code",
      "metadata": {
        "colab": {
          "base_uri": "https://localhost:8080/",
          "height": 143
        },
        "id": "BRcrAxfSSVd5",
        "outputId": "357053e5-8aee-443a-85c6-df45e7eb3fab"
      },
      "source": [
        "order_gr.head(3)"
      ],
      "execution_count": null,
      "outputs": [
        {
          "output_type": "execute_result",
          "data": {
            "text/html": [
              "<div>\n",
              "<style scoped>\n",
              "    .dataframe tbody tr th:only-of-type {\n",
              "        vertical-align: middle;\n",
              "    }\n",
              "\n",
              "    .dataframe tbody tr th {\n",
              "        vertical-align: top;\n",
              "    }\n",
              "\n",
              "    .dataframe thead th {\n",
              "        text-align: right;\n",
              "    }\n",
              "</style>\n",
              "<table border=\"1\" class=\"dataframe\">\n",
              "  <thead>\n",
              "    <tr style=\"text-align: right;\">\n",
              "      <th></th>\n",
              "      <th>orderid</th>\n",
              "      <th>itemid</th>\n",
              "    </tr>\n",
              "  </thead>\n",
              "  <tbody>\n",
              "    <tr>\n",
              "      <th>0</th>\n",
              "      <td>31338000509845</td>\n",
              "      <td>2662778119,2255381856,1825056968,575945551,144...</td>\n",
              "    </tr>\n",
              "    <tr>\n",
              "      <th>1</th>\n",
              "      <td>31338001158725</td>\n",
              "      <td>6112866826,5013004529,5712867361</td>\n",
              "    </tr>\n",
              "    <tr>\n",
              "      <th>2</th>\n",
              "      <td>31338002167561</td>\n",
              "      <td>5712106216,3310344299,6303964568,3310738830,38...</td>\n",
              "    </tr>\n",
              "  </tbody>\n",
              "</table>\n",
              "</div>"
            ],
            "text/plain": [
              "          orderid                                             itemid\n",
              "0  31338000509845  2662778119,2255381856,1825056968,575945551,144...\n",
              "1  31338001158725                   6112866826,5013004529,5712867361\n",
              "2  31338002167561  5712106216,3310344299,6303964568,3310738830,38..."
            ]
          },
          "metadata": {
            "tags": []
          },
          "execution_count": 6
        }
      ]
    },
    {
      "cell_type": "code",
      "metadata": {
        "id": "tg0MaOm0SeD8"
      },
      "source": [
        "def split_list_like(df: pd.DataFrame, col: str, new_col_prefix: str, pat: str = None):\n",
        "    df = df.copy()\n",
        "    split_col = df[col].str.split(pat, expand=True)\n",
        "\n",
        "    return df.assign(\n",
        "        **{\n",
        "            f\"{new_col_prefix}_{x}\": split_col.iloc[:, x]\n",
        "            for x in range(split_col.shape[1])\n",
        "        }\n",
        "    )\n",
        "split = order_gr.pipe(\n",
        "    split_list_like,\n",
        "    col=\"itemid\",\n",
        "    new_col_prefix=\"itemid\",\n",
        "    pat=\",\",\n",
        ")"
      ],
      "execution_count": null,
      "outputs": []
    },
    {
      "cell_type": "code",
      "metadata": {
        "colab": {
          "base_uri": "https://localhost:8080/",
          "height": 163
        },
        "id": "hxwnBqwErJc-",
        "outputId": "506d72de-ab33-4cff-ea50-91934bde8798"
      },
      "source": [
        "split.head(3)"
      ],
      "execution_count": null,
      "outputs": [
        {
          "output_type": "execute_result",
          "data": {
            "text/html": [
              "<div>\n",
              "<style scoped>\n",
              "    .dataframe tbody tr th:only-of-type {\n",
              "        vertical-align: middle;\n",
              "    }\n",
              "\n",
              "    .dataframe tbody tr th {\n",
              "        vertical-align: top;\n",
              "    }\n",
              "\n",
              "    .dataframe thead th {\n",
              "        text-align: right;\n",
              "    }\n",
              "</style>\n",
              "<table border=\"1\" class=\"dataframe\">\n",
              "  <thead>\n",
              "    <tr style=\"text-align: right;\">\n",
              "      <th></th>\n",
              "      <th>orderid</th>\n",
              "      <th>itemid</th>\n",
              "      <th>itemid_0</th>\n",
              "      <th>itemid_1</th>\n",
              "      <th>itemid_2</th>\n",
              "      <th>itemid_3</th>\n",
              "      <th>itemid_4</th>\n",
              "      <th>itemid_5</th>\n",
              "      <th>itemid_6</th>\n",
              "      <th>itemid_7</th>\n",
              "      <th>itemid_8</th>\n",
              "      <th>itemid_9</th>\n",
              "      <th>itemid_10</th>\n",
              "      <th>itemid_11</th>\n",
              "      <th>itemid_12</th>\n",
              "      <th>itemid_13</th>\n",
              "      <th>itemid_14</th>\n",
              "      <th>itemid_15</th>\n",
              "      <th>itemid_16</th>\n",
              "      <th>itemid_17</th>\n",
              "      <th>itemid_18</th>\n",
              "      <th>itemid_19</th>\n",
              "      <th>itemid_20</th>\n",
              "      <th>itemid_21</th>\n",
              "      <th>itemid_22</th>\n",
              "      <th>itemid_23</th>\n",
              "      <th>itemid_24</th>\n",
              "      <th>itemid_25</th>\n",
              "      <th>itemid_26</th>\n",
              "      <th>itemid_27</th>\n",
              "      <th>itemid_28</th>\n",
              "      <th>itemid_29</th>\n",
              "      <th>itemid_30</th>\n",
              "      <th>itemid_31</th>\n",
              "      <th>itemid_32</th>\n",
              "      <th>itemid_33</th>\n",
              "      <th>itemid_34</th>\n",
              "      <th>itemid_35</th>\n",
              "      <th>itemid_36</th>\n",
              "      <th>itemid_37</th>\n",
              "      <th>itemid_38</th>\n",
              "      <th>itemid_39</th>\n",
              "    </tr>\n",
              "  </thead>\n",
              "  <tbody>\n",
              "    <tr>\n",
              "      <th>0</th>\n",
              "      <td>31338000509845</td>\n",
              "      <td>2662778119,2255381856,1825056968,575945551,144...</td>\n",
              "      <td>2662778119</td>\n",
              "      <td>2255381856</td>\n",
              "      <td>1825056968</td>\n",
              "      <td>575945551</td>\n",
              "      <td>1444935832</td>\n",
              "      <td>1688963479</td>\n",
              "      <td>391098483</td>\n",
              "      <td>6807602156</td>\n",
              "      <td>382577821</td>\n",
              "      <td>None</td>\n",
              "      <td>None</td>\n",
              "      <td>None</td>\n",
              "      <td>None</td>\n",
              "      <td>None</td>\n",
              "      <td>None</td>\n",
              "      <td>None</td>\n",
              "      <td>None</td>\n",
              "      <td>None</td>\n",
              "      <td>None</td>\n",
              "      <td>None</td>\n",
              "      <td>None</td>\n",
              "      <td>None</td>\n",
              "      <td>None</td>\n",
              "      <td>None</td>\n",
              "      <td>None</td>\n",
              "      <td>None</td>\n",
              "      <td>None</td>\n",
              "      <td>None</td>\n",
              "      <td>None</td>\n",
              "      <td>None</td>\n",
              "      <td>None</td>\n",
              "      <td>None</td>\n",
              "      <td>None</td>\n",
              "      <td>None</td>\n",
              "      <td>None</td>\n",
              "      <td>None</td>\n",
              "      <td>None</td>\n",
              "      <td>None</td>\n",
              "      <td>None</td>\n",
              "      <td>None</td>\n",
              "    </tr>\n",
              "    <tr>\n",
              "      <th>1</th>\n",
              "      <td>31338001158725</td>\n",
              "      <td>6112866826,5013004529,5712867361</td>\n",
              "      <td>6112866826</td>\n",
              "      <td>5013004529</td>\n",
              "      <td>5712867361</td>\n",
              "      <td>None</td>\n",
              "      <td>None</td>\n",
              "      <td>None</td>\n",
              "      <td>None</td>\n",
              "      <td>None</td>\n",
              "      <td>None</td>\n",
              "      <td>None</td>\n",
              "      <td>None</td>\n",
              "      <td>None</td>\n",
              "      <td>None</td>\n",
              "      <td>None</td>\n",
              "      <td>None</td>\n",
              "      <td>None</td>\n",
              "      <td>None</td>\n",
              "      <td>None</td>\n",
              "      <td>None</td>\n",
              "      <td>None</td>\n",
              "      <td>None</td>\n",
              "      <td>None</td>\n",
              "      <td>None</td>\n",
              "      <td>None</td>\n",
              "      <td>None</td>\n",
              "      <td>None</td>\n",
              "      <td>None</td>\n",
              "      <td>None</td>\n",
              "      <td>None</td>\n",
              "      <td>None</td>\n",
              "      <td>None</td>\n",
              "      <td>None</td>\n",
              "      <td>None</td>\n",
              "      <td>None</td>\n",
              "      <td>None</td>\n",
              "      <td>None</td>\n",
              "      <td>None</td>\n",
              "      <td>None</td>\n",
              "      <td>None</td>\n",
              "      <td>None</td>\n",
              "    </tr>\n",
              "    <tr>\n",
              "      <th>2</th>\n",
              "      <td>31338002167561</td>\n",
              "      <td>5712106216,3310344299,6303964568,3310738830,38...</td>\n",
              "      <td>5712106216</td>\n",
              "      <td>3310344299</td>\n",
              "      <td>6303964568</td>\n",
              "      <td>3310738830</td>\n",
              "      <td>3802384595</td>\n",
              "      <td>4101882142</td>\n",
              "      <td>None</td>\n",
              "      <td>None</td>\n",
              "      <td>None</td>\n",
              "      <td>None</td>\n",
              "      <td>None</td>\n",
              "      <td>None</td>\n",
              "      <td>None</td>\n",
              "      <td>None</td>\n",
              "      <td>None</td>\n",
              "      <td>None</td>\n",
              "      <td>None</td>\n",
              "      <td>None</td>\n",
              "      <td>None</td>\n",
              "      <td>None</td>\n",
              "      <td>None</td>\n",
              "      <td>None</td>\n",
              "      <td>None</td>\n",
              "      <td>None</td>\n",
              "      <td>None</td>\n",
              "      <td>None</td>\n",
              "      <td>None</td>\n",
              "      <td>None</td>\n",
              "      <td>None</td>\n",
              "      <td>None</td>\n",
              "      <td>None</td>\n",
              "      <td>None</td>\n",
              "      <td>None</td>\n",
              "      <td>None</td>\n",
              "      <td>None</td>\n",
              "      <td>None</td>\n",
              "      <td>None</td>\n",
              "      <td>None</td>\n",
              "      <td>None</td>\n",
              "      <td>None</td>\n",
              "    </tr>\n",
              "  </tbody>\n",
              "</table>\n",
              "</div>"
            ],
            "text/plain": [
              "          orderid  ... itemid_39\n",
              "0  31338000509845  ...      None\n",
              "1  31338001158725  ...      None\n",
              "2  31338002167561  ...      None\n",
              "\n",
              "[3 rows x 42 columns]"
            ]
          },
          "metadata": {
            "tags": []
          },
          "execution_count": 8
        }
      ]
    },
    {
      "cell_type": "code",
      "metadata": {
        "colab": {
          "base_uri": "https://localhost:8080/",
          "height": 163
        },
        "id": "Pz2MEwdErOQ3",
        "outputId": "9a56f28b-279e-4b46-a234-83a49dace4da"
      },
      "source": [
        "split = split.drop(columns=['itemid'])\n",
        "split = split.drop(columns=['orderid'])\n",
        "split.head(3)"
      ],
      "execution_count": null,
      "outputs": [
        {
          "output_type": "execute_result",
          "data": {
            "text/html": [
              "<div>\n",
              "<style scoped>\n",
              "    .dataframe tbody tr th:only-of-type {\n",
              "        vertical-align: middle;\n",
              "    }\n",
              "\n",
              "    .dataframe tbody tr th {\n",
              "        vertical-align: top;\n",
              "    }\n",
              "\n",
              "    .dataframe thead th {\n",
              "        text-align: right;\n",
              "    }\n",
              "</style>\n",
              "<table border=\"1\" class=\"dataframe\">\n",
              "  <thead>\n",
              "    <tr style=\"text-align: right;\">\n",
              "      <th></th>\n",
              "      <th>itemid_0</th>\n",
              "      <th>itemid_1</th>\n",
              "      <th>itemid_2</th>\n",
              "      <th>itemid_3</th>\n",
              "      <th>itemid_4</th>\n",
              "      <th>itemid_5</th>\n",
              "      <th>itemid_6</th>\n",
              "      <th>itemid_7</th>\n",
              "      <th>itemid_8</th>\n",
              "      <th>itemid_9</th>\n",
              "      <th>itemid_10</th>\n",
              "      <th>itemid_11</th>\n",
              "      <th>itemid_12</th>\n",
              "      <th>itemid_13</th>\n",
              "      <th>itemid_14</th>\n",
              "      <th>itemid_15</th>\n",
              "      <th>itemid_16</th>\n",
              "      <th>itemid_17</th>\n",
              "      <th>itemid_18</th>\n",
              "      <th>itemid_19</th>\n",
              "      <th>itemid_20</th>\n",
              "      <th>itemid_21</th>\n",
              "      <th>itemid_22</th>\n",
              "      <th>itemid_23</th>\n",
              "      <th>itemid_24</th>\n",
              "      <th>itemid_25</th>\n",
              "      <th>itemid_26</th>\n",
              "      <th>itemid_27</th>\n",
              "      <th>itemid_28</th>\n",
              "      <th>itemid_29</th>\n",
              "      <th>itemid_30</th>\n",
              "      <th>itemid_31</th>\n",
              "      <th>itemid_32</th>\n",
              "      <th>itemid_33</th>\n",
              "      <th>itemid_34</th>\n",
              "      <th>itemid_35</th>\n",
              "      <th>itemid_36</th>\n",
              "      <th>itemid_37</th>\n",
              "      <th>itemid_38</th>\n",
              "      <th>itemid_39</th>\n",
              "    </tr>\n",
              "  </thead>\n",
              "  <tbody>\n",
              "    <tr>\n",
              "      <th>0</th>\n",
              "      <td>2662778119</td>\n",
              "      <td>2255381856</td>\n",
              "      <td>1825056968</td>\n",
              "      <td>575945551</td>\n",
              "      <td>1444935832</td>\n",
              "      <td>1688963479</td>\n",
              "      <td>391098483</td>\n",
              "      <td>6807602156</td>\n",
              "      <td>382577821</td>\n",
              "      <td>None</td>\n",
              "      <td>None</td>\n",
              "      <td>None</td>\n",
              "      <td>None</td>\n",
              "      <td>None</td>\n",
              "      <td>None</td>\n",
              "      <td>None</td>\n",
              "      <td>None</td>\n",
              "      <td>None</td>\n",
              "      <td>None</td>\n",
              "      <td>None</td>\n",
              "      <td>None</td>\n",
              "      <td>None</td>\n",
              "      <td>None</td>\n",
              "      <td>None</td>\n",
              "      <td>None</td>\n",
              "      <td>None</td>\n",
              "      <td>None</td>\n",
              "      <td>None</td>\n",
              "      <td>None</td>\n",
              "      <td>None</td>\n",
              "      <td>None</td>\n",
              "      <td>None</td>\n",
              "      <td>None</td>\n",
              "      <td>None</td>\n",
              "      <td>None</td>\n",
              "      <td>None</td>\n",
              "      <td>None</td>\n",
              "      <td>None</td>\n",
              "      <td>None</td>\n",
              "      <td>None</td>\n",
              "    </tr>\n",
              "    <tr>\n",
              "      <th>1</th>\n",
              "      <td>6112866826</td>\n",
              "      <td>5013004529</td>\n",
              "      <td>5712867361</td>\n",
              "      <td>None</td>\n",
              "      <td>None</td>\n",
              "      <td>None</td>\n",
              "      <td>None</td>\n",
              "      <td>None</td>\n",
              "      <td>None</td>\n",
              "      <td>None</td>\n",
              "      <td>None</td>\n",
              "      <td>None</td>\n",
              "      <td>None</td>\n",
              "      <td>None</td>\n",
              "      <td>None</td>\n",
              "      <td>None</td>\n",
              "      <td>None</td>\n",
              "      <td>None</td>\n",
              "      <td>None</td>\n",
              "      <td>None</td>\n",
              "      <td>None</td>\n",
              "      <td>None</td>\n",
              "      <td>None</td>\n",
              "      <td>None</td>\n",
              "      <td>None</td>\n",
              "      <td>None</td>\n",
              "      <td>None</td>\n",
              "      <td>None</td>\n",
              "      <td>None</td>\n",
              "      <td>None</td>\n",
              "      <td>None</td>\n",
              "      <td>None</td>\n",
              "      <td>None</td>\n",
              "      <td>None</td>\n",
              "      <td>None</td>\n",
              "      <td>None</td>\n",
              "      <td>None</td>\n",
              "      <td>None</td>\n",
              "      <td>None</td>\n",
              "      <td>None</td>\n",
              "    </tr>\n",
              "    <tr>\n",
              "      <th>2</th>\n",
              "      <td>5712106216</td>\n",
              "      <td>3310344299</td>\n",
              "      <td>6303964568</td>\n",
              "      <td>3310738830</td>\n",
              "      <td>3802384595</td>\n",
              "      <td>4101882142</td>\n",
              "      <td>None</td>\n",
              "      <td>None</td>\n",
              "      <td>None</td>\n",
              "      <td>None</td>\n",
              "      <td>None</td>\n",
              "      <td>None</td>\n",
              "      <td>None</td>\n",
              "      <td>None</td>\n",
              "      <td>None</td>\n",
              "      <td>None</td>\n",
              "      <td>None</td>\n",
              "      <td>None</td>\n",
              "      <td>None</td>\n",
              "      <td>None</td>\n",
              "      <td>None</td>\n",
              "      <td>None</td>\n",
              "      <td>None</td>\n",
              "      <td>None</td>\n",
              "      <td>None</td>\n",
              "      <td>None</td>\n",
              "      <td>None</td>\n",
              "      <td>None</td>\n",
              "      <td>None</td>\n",
              "      <td>None</td>\n",
              "      <td>None</td>\n",
              "      <td>None</td>\n",
              "      <td>None</td>\n",
              "      <td>None</td>\n",
              "      <td>None</td>\n",
              "      <td>None</td>\n",
              "      <td>None</td>\n",
              "      <td>None</td>\n",
              "      <td>None</td>\n",
              "      <td>None</td>\n",
              "    </tr>\n",
              "  </tbody>\n",
              "</table>\n",
              "</div>"
            ],
            "text/plain": [
              "     itemid_0    itemid_1    itemid_2  ... itemid_37 itemid_38 itemid_39\n",
              "0  2662778119  2255381856  1825056968  ...      None      None      None\n",
              "1  6112866826  5013004529  5712867361  ...      None      None      None\n",
              "2  5712106216  3310344299  6303964568  ...      None      None      None\n",
              "\n",
              "[3 rows x 40 columns]"
            ]
          },
          "metadata": {
            "tags": []
          },
          "execution_count": 9
        }
      ]
    },
    {
      "cell_type": "code",
      "metadata": {
        "id": "cAgzdhqLvpGl"
      },
      "source": [
        "split.fillna(0,inplace=True)"
      ],
      "execution_count": null,
      "outputs": []
    },
    {
      "cell_type": "code",
      "metadata": {
        "id": "Y65N5Qzvv5yi"
      },
      "source": [
        "df = split"
      ],
      "execution_count": null,
      "outputs": []
    },
    {
      "cell_type": "code",
      "metadata": {
        "id": "Mh0oRVtTwK9o"
      },
      "source": [
        "transactions = []\n",
        "for i in range(0,len(df)):\n",
        "    transactions.append([str(df.values[i,j]) for j in range(0,39) if str(df.values[i,j])!='0'])"
      ],
      "execution_count": null,
      "outputs": []
    },
    {
      "cell_type": "code",
      "metadata": {
        "colab": {
          "base_uri": "https://localhost:8080/"
        },
        "id": "88NS2VT1wbps",
        "outputId": "2c972cdd-b5fd-46b9-9f0a-c42f152b6985"
      },
      "source": [
        "transactions[0]"
      ],
      "execution_count": null,
      "outputs": [
        {
          "output_type": "execute_result",
          "data": {
            "text/plain": [
              "['2662778119',\n",
              " '2255381856',\n",
              " '1825056968',\n",
              " '575945551',\n",
              " '1444935832',\n",
              " '1688963479',\n",
              " '391098483',\n",
              " '6807602156',\n",
              " '382577821']"
            ]
          },
          "metadata": {
            "tags": []
          },
          "execution_count": 30
        }
      ]
    },
    {
      "cell_type": "code",
      "metadata": {
        "id": "LB91g0IWweHk"
      },
      "source": [
        "rules = apriori(transactions)\n"
      ],
      "execution_count": null,
      "outputs": []
    },
    {
      "cell_type": "code",
      "metadata": {
        "colab": {
          "base_uri": "https://localhost:8080/"
        },
        "id": "aJawP7KFwmwM",
        "outputId": "767935b5-26c2-4bda-b6bd-b7c92be77c4f"
      },
      "source": [
        "Results = list(rules)\n",
        "Results"
      ],
      "execution_count": null,
      "outputs": [
        {
          "output_type": "execute_result",
          "data": {
            "text/plain": [
              "[]"
            ]
          },
          "metadata": {
            "tags": []
          },
          "execution_count": 33
        }
      ]
    },
    {
      "cell_type": "code",
      "metadata": {
        "id": "Koz0fNLywnQD"
      },
      "source": [
        "df_results = pd.DataFrame(Results)"
      ],
      "execution_count": null,
      "outputs": []
    },
    {
      "cell_type": "code",
      "metadata": {
        "colab": {
          "base_uri": "https://localhost:8080/",
          "height": 32
        },
        "id": "WIrhkgi1wrES",
        "outputId": "666b9ef2-17e4-43ef-cf8a-f0c4e6f482e9"
      },
      "source": [
        "df_results.head()"
      ],
      "execution_count": null,
      "outputs": [
        {
          "output_type": "execute_result",
          "data": {
            "text/html": [
              "<div>\n",
              "<style scoped>\n",
              "    .dataframe tbody tr th:only-of-type {\n",
              "        vertical-align: middle;\n",
              "    }\n",
              "\n",
              "    .dataframe tbody tr th {\n",
              "        vertical-align: top;\n",
              "    }\n",
              "\n",
              "    .dataframe thead th {\n",
              "        text-align: right;\n",
              "    }\n",
              "</style>\n",
              "<table border=\"1\" class=\"dataframe\">\n",
              "  <thead>\n",
              "    <tr style=\"text-align: right;\">\n",
              "      <th></th>\n",
              "    </tr>\n",
              "  </thead>\n",
              "  <tbody>\n",
              "  </tbody>\n",
              "</table>\n",
              "</div>"
            ],
            "text/plain": [
              "Empty DataFrame\n",
              "Columns: []\n",
              "Index: []"
            ]
          },
          "metadata": {
            "tags": []
          },
          "execution_count": 35
        }
      ]
    },
    {
      "cell_type": "code",
      "metadata": {
        "id": "GSjNjmNFyRmn"
      },
      "source": [
        "#ref : https://www.kaggle.com/whs2018/marker-analysis"
      ],
      "execution_count": null,
      "outputs": []
    }
  ]
}